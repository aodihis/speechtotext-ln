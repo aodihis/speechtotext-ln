{
 "cells": [
  {
   "cell_type": "code",
   "id": "initial_id",
   "metadata": {
    "collapsed": true,
    "ExecuteTime": {
     "end_time": "2025-04-12T11:18:53.651157Z",
     "start_time": "2025-04-12T11:18:53.647521Z"
    }
   },
   "source": [
    "import os\n",
    "from pyannote.core import Segment\n",
    "from dotenv import load_dotenv\n",
    "from pyannote.audio import Pipeline"
   ],
   "outputs": [],
   "execution_count": 18
  },
  {
   "metadata": {
    "ExecuteTime": {
     "end_time": "2025-04-12T10:33:37.986120Z",
     "start_time": "2025-04-12T10:33:37.981728Z"
    }
   },
   "cell_type": "code",
   "source": [
    "load_dotenv()\n",
    "token = os.getenv(\"HF_TOKEN\")"
   ],
   "id": "60e0a3b40802ee86",
   "outputs": [],
   "execution_count": 3
  },
  {
   "metadata": {
    "ExecuteTime": {
     "end_time": "2025-04-12T10:34:37.714483Z",
     "start_time": "2025-04-12T10:33:43.022416Z"
    }
   },
   "cell_type": "code",
   "source": "pipeline = Pipeline.from_pretrained(\"pyannote/speaker-diarization\", use_auth_token=token)",
   "id": "e0a93b10612c197e",
   "outputs": [
    {
     "name": "stderr",
     "output_type": "stream",
     "text": [
      "C:\\Users\\aodih\\AppData\\Local\\Programs\\Python\\Python312\\Lib\\inspect.py:1007: UserWarning: Module 'speechbrain.pretrained' was deprecated, redirecting to 'speechbrain.inference'. Please update your script. This is a change from SpeechBrain 1.0. See: https://github.com/speechbrain/speechbrain/releases/tag/v1.0.0\n",
      "  if ismodule(module) and hasattr(module, '__file__'):\n",
      "Lightning automatically upgraded your loaded checkpoint from v1.5.4 to v2.5.1. To apply the upgrade to your files permanently, run `python -m pytorch_lightning.utilities.upgrade_checkpoint C:\\Users\\aodih\\.cache\\torch\\pyannote\\models--pyannote--segmentation\\snapshots\\c4c8ceafcbb3a7a280c2d357aee9fbc9b0be7f9b\\pytorch_model.bin`\n"
     ]
    },
    {
     "name": "stdout",
     "output_type": "stream",
     "text": [
      "Model was trained with pyannote.audio 0.0.1, yours is 3.3.2. Bad things might happen unless you revert pyannote.audio to 0.x.\n",
      "Model was trained with torch 1.10.0+cu102, yours is 2.6.0+cpu. Bad things might happen unless you revert torch to 1.x.\n"
     ]
    },
    {
     "name": "stderr",
     "output_type": "stream",
     "text": [
      "C:\\workspace\\healper\\whisper-re\\.venv\\Lib\\site-packages\\speechbrain\\utils\\fetching.py:151: UserWarning: Using SYMLINK strategy on Windows for fetching potentially requires elevated privileges and is not recommended. See `LocalStrategy` documentation.\n",
      "  warnings.warn(\n",
      "C:\\workspace\\healper\\whisper-re\\.venv\\Lib\\site-packages\\speechbrain\\utils\\autocast.py:188: FutureWarning: `torch.cuda.amp.custom_fwd(args...)` is deprecated. Please use `torch.amp.custom_fwd(args..., device_type='cuda')` instead.\n",
      "  wrapped_fwd = torch.cuda.amp.custom_fwd(fwd, cast_inputs=cast_inputs)\n",
      "C:\\workspace\\healper\\whisper-re\\.venv\\Lib\\site-packages\\speechbrain\\utils\\parameter_transfer.py:234: UserWarning: Requested Pretrainer collection using symlinks on Windows. This might not work; see `LocalStrategy` documentation. Consider unsetting `collect_in` in Pretrainer to avoid symlinking altogether.\n",
      "  warnings.warn(\n"
     ]
    }
   ],
   "execution_count": 4
  },
  {
   "metadata": {
    "ExecuteTime": {
     "end_time": "2025-04-12T10:39:41.598111Z",
     "start_time": "2025-04-12T10:35:48.737023Z"
    }
   },
   "cell_type": "code",
   "source": "diarization = pipeline(\"audio/example.mp3\")",
   "id": "dfb1140c1efc1689",
   "outputs": [
    {
     "name": "stderr",
     "output_type": "stream",
     "text": [
      "C:\\workspace\\healper\\whisper-re\\.venv\\Lib\\site-packages\\torchaudio\\_backend\\soundfile_backend.py:71: UserWarning: The MPEG_LAYER_III subtype is unknown to TorchAudio. As a result, the bits_per_sample attribute will be set to 0. If you are seeing this warning, please report by opening an issue on github (after checking for existing/closed ones). You may otherwise ignore this warning.\n",
      "  warnings.warn(\n"
     ]
    }
   ],
   "execution_count": 6
  },
  {
   "metadata": {
    "ExecuteTime": {
     "end_time": "2025-04-12T11:05:37.744710Z",
     "start_time": "2025-04-12T11:05:37.741014Z"
    }
   },
   "cell_type": "code",
   "source": [
    "res = []\n",
    "for turn, _, speaker in diarization.itertracks(yield_label=True):\n",
    "    res.append(f\"Speaker {speaker}: [{turn.start:.1f}s - {turn.end:.1f}s]\")"
   ],
   "id": "7d9d7f37e0b7144e",
   "outputs": [],
   "execution_count": 8
  },
  {
   "metadata": {
    "ExecuteTime": {
     "end_time": "2025-04-12T11:09:10.067083Z",
     "start_time": "2025-04-12T11:08:38.264832Z"
    }
   },
   "cell_type": "code",
   "source": [
    "import whisper\n",
    "model = whisper.load_model(\"base\")  # You can also use \"small\", \"medium\", \"large\"\n",
    "result = model.transcribe(\"audio/example.mp3\", verbose=False)"
   ],
   "id": "cda050344666d332",
   "outputs": [
    {
     "name": "stderr",
     "output_type": "stream",
     "text": [
      "C:\\workspace\\healper\\whisper-re\\.venv\\Lib\\site-packages\\whisper\\transcribe.py:126: UserWarning: FP16 is not supported on CPU; using FP32 instead\n",
      "  warnings.warn(\"FP16 is not supported on CPU; using FP32 instead\")\n"
     ]
    },
    {
     "name": "stdout",
     "output_type": "stream",
     "text": [
      "Detected language: English\n"
     ]
    },
    {
     "name": "stderr",
     "output_type": "stream",
     "text": [
      "100%|██████████| 43065/43065 [00:28<00:00, 1498.13frames/s]\n"
     ]
    }
   ],
   "execution_count": 10
  },
  {
   "metadata": {
    "ExecuteTime": {
     "end_time": "2025-04-12T11:20:37.018481Z",
     "start_time": "2025-04-12T11:20:36.989613Z"
    }
   },
   "cell_type": "code",
   "source": [
    "conv = []\n",
    "for item in result[\"segments\"]:\n",
    "    start = item[\"start\"]\n",
    "    end = item[\"end\"]\n",
    "    text = item[\"text\"]\n",
    "    seg = Segment(start, end)\n",
    "    speaker = diarization.crop(seg).argmax()\n",
    "    conv.append((speaker, seg, text))\n"
   ],
   "id": "e6b2b0b6754ae543",
   "outputs": [],
   "execution_count": 19
  },
  {
   "metadata": {
    "ExecuteTime": {
     "end_time": "2025-04-12T11:20:40.018717Z",
     "start_time": "2025-04-12T11:20:40.010871Z"
    }
   },
   "cell_type": "code",
   "source": "conv",
   "id": "edabf30cc5433873",
   "outputs": [
    {
     "data": {
      "text/plain": [
       "[('SPEAKER_00', <Segment(0, 8.92)>, ' Listening activity number 11.'),\n",
       " ('SPEAKER_01',\n",
       "  <Segment(8.92, 13.12)>,\n",
       "  ' You will hear a conversation between a secretary and a student.'),\n",
       " ('SPEAKER_01',\n",
       "  <Segment(13.12, 18.04)>,\n",
       "  ' The secretary is asking the student for information in order to complete an application form for'),\n",
       " ('SPEAKER_01', <Segment(18.04, 19.76)>, ' a course.'),\n",
       " ('SPEAKER_01',\n",
       "  <Segment(19.76, 25.8)>,\n",
       "  ' As you listen, fill in the appropriate information on the form below.'),\n",
       " ('SPEAKER_01', <Segment(25.8, 26.8)>, ' Good afternoon.'),\n",
       " ('SPEAKER_01', <Segment(26.8, 27.8)>, ' Can I help you?'),\n",
       " ('SPEAKER_00',\n",
       "  <Segment(28.04, 31.76)>,\n",
       "  \" Yes, I'd like to enroll for the English short training course.\"),\n",
       " ('SPEAKER_01', <Segment(31.76, 32.76)>, ' Certainly.'),\n",
       " ('SPEAKER_01', <Segment(32.76, 34.12)>, \" What's your surname, please?\"),\n",
       " ('SPEAKER_00', <Segment(34.12, 35.16)>, \" Potter's.\"),\n",
       " ('SPEAKER_01', <Segment(35.16, 36.64)>, ' Could you spell that for me?'),\n",
       " ('SPEAKER_00', <Segment(36.64, 40.8)>, \" Yes, it's P-O-T-T-E-R-S.\"),\n",
       " ('SPEAKER_01', <Segment(40.8, 41.72)>, ' Thank you.'),\n",
       " ('SPEAKER_01', <Segment(41.72, 43.12)>, \" And what's your first name?\"),\n",
       " ('SPEAKER_00', <Segment(43.12, 44.12)>, ' Mike.'),\n",
       " ('SPEAKER_00', <Segment(44.12, 47.28)>, \" That's spelled M-I-K-E.\"),\n",
       " ('SPEAKER_01', <Segment(47.28, 48.4)>, ' Thank you.'),\n",
       " ('SPEAKER_01', <Segment(48.4, 49.48)>, ' Where are you from?'),\n",
       " ('SPEAKER_00', <Segment(49.48, 51)>, ' The United States.'),\n",
       " ('SPEAKER_00', <Segment(51, 51.8)>, ' I see.'),\n",
       " ('SPEAKER_00', <Segment(51.8, 52.72)>, ' How old are you?'),\n",
       " ('SPEAKER_00', <Segment(52.72, 53.96)>, ' 27.'),\n",
       " ('SPEAKER_01', <Segment(53.96, 55)>, ' Good.'),\n",
       " ('SPEAKER_01', <Segment(55, 56.48)>, ' Where do you live now?'),\n",
       " ('SPEAKER_00', <Segment(56.48, 61.28)>, ' I live at 45 hard-cut lane E24.'),\n",
       " ('SPEAKER_01', <Segment(61.28, 62.36)>, ' I see.'),\n",
       " ('SPEAKER_01', <Segment(62.36, 64)>, ' And do you have a telephone number?'),\n",
       " ('SPEAKER_00', <Segment(64, 64.96)>, ' Yes.'),\n",
       " ('SPEAKER_00', <Segment(64.96, 69)>, \" It's 365-3241.\"),\n",
       " ('SPEAKER_01', <Segment(69, 70)>, ' Thanks.'),\n",
       " ('SPEAKER_00', <Segment(78.36, 82.68)>, ' Listening activity number 12a.'),\n",
       " ('SPEAKER_00', <Segment(82.68, 85.44)>, ' Listen to some short dialogues.'),\n",
       " ('SPEAKER_00',\n",
       "  <Segment(85.44, 91)>,\n",
       "  ' In each dialogue, you will hear someone ask a question about the time.'),\n",
       " ('SPEAKER_00',\n",
       "  <Segment(91, 98.24)>,\n",
       "  ' When the answer is given, write down the time in the space below.'),\n",
       " ('SPEAKER_01', <Segment(98.24, 100.52)>, ' Number one.'),\n",
       " ('SPEAKER_00', <Segment(100.52, 101.72)>, ' Excuse me.'),\n",
       " ('SPEAKER_00',\n",
       "  <Segment(101.72, 103.72)>,\n",
       "  ' Can you tell me the time, please?'),\n",
       " ('SPEAKER_00', <Segment(103.72, 106.64)>, \" Yes, it's quarter to three.\"),\n",
       " ('SPEAKER_00', <Segment(106.64, 110.04)>, ' Number two.'),\n",
       " ('SPEAKER_00',\n",
       "  <Segment(110.04, 112.32)>,\n",
       "  ' Do you have the right time, please?'),\n",
       " ('SPEAKER_00', <Segment(112.36, 117.64)>, \" I think it's 20 past five.\"),\n",
       " ('SPEAKER_00', <Segment(117.64, 119.76)>, ' Number three.'),\n",
       " ('SPEAKER_00',\n",
       "  <Segment(119.76, 122.96)>,\n",
       "  ' Do you know what time the next bus is, please?'),\n",
       " ('SPEAKER_01', <Segment(122.96, 125.72)>, \" Yes, it's half past seven.\"),\n",
       " ('SPEAKER_00', <Segment(125.72, 129.08)>, ' Number four.'),\n",
       " ('SPEAKER_01',\n",
       "  <Segment(129.08, 131.2)>,\n",
       "  ' What time do you finish your work today?'),\n",
       " ('SPEAKER_01', <Segment(131.2, 133.84)>, ' 20 past six.'),\n",
       " ('SPEAKER_01', <Segment(133.84, 135.68)>, ' Number five.'),\n",
       " ('SPEAKER_00', <Segment(135.68, 138.32)>, ' When do the shops open, please?'),\n",
       " ('SPEAKER_01', <Segment(138.32, 140.24)>, \" At eight o'clock.\"),\n",
       " ('SPEAKER_00', <Segment(140.24, 144)>, ' Number six.'),\n",
       " ('SPEAKER_01',\n",
       "  <Segment(144, 146.32)>,\n",
       "  ' What time does the London train leave, please?'),\n",
       " ('SPEAKER_01', <Segment(146.32, 148.64)>, ' 12.30.'),\n",
       " ('SPEAKER_01', <Segment(148.64, 150.4)>, ' Number seven.'),\n",
       " ('SPEAKER_00',\n",
       "  <Segment(150.4, 153.12)>,\n",
       "  \" What's the next train to Birmingham, please?\"),\n",
       " ('SPEAKER_00', <Segment(153.12, 154.92)>, ' 11.5.'),\n",
       " ('SPEAKER_00', <Segment(154.92, 158.32)>, ' Number eight.'),\n",
       " ('SPEAKER_01', <Segment(158.32, 160.12)>, ' Excuse me, please.'),\n",
       " ('SPEAKER_01',\n",
       "  <Segment(160.12, 162.36)>,\n",
       "  ' What time does the Liverpool train arrive?'),\n",
       " ('SPEAKER_00', <Segment(162.36, 165.2)>, ' 17.40.'),\n",
       " ('SPEAKER_01', <Segment(165.2, 168.24)>, ' Number nine.'),\n",
       " ('SPEAKER_00',\n",
       "  <Segment(168.24, 171.24)>,\n",
       "  ' When does the Paris flight leave, please?'),\n",
       " ('SPEAKER_01', <Segment(171.24, 174.48)>, ' 22.50.'),\n",
       " ('SPEAKER_00', <Segment(174.48, 176.24)>, ' Number ten.'),\n",
       " ('SPEAKER_01',\n",
       "  <Segment(176.24, 179.04)>,\n",
       "  \" What time's the next flight to Amsterdam, please?\"),\n",
       " ('SPEAKER_00', <Segment(179.04, 183.56)>, ' 15.30.'),\n",
       " ('SPEAKER_01', <Segment(183.56, 191)>, ' 12.30.'),\n",
       " ('SPEAKER_01', <Segment(191, 195.4)>, ' Listening activity number 12b.'),\n",
       " ('SPEAKER_01', <Segment(195.4, 197.52)>, ' You will hear a dialogue.'),\n",
       " ('SPEAKER_01',\n",
       "  <Segment(197.56, 203.04)>,\n",
       "  ' As you listen, fill in the form below.'),\n",
       " ('SPEAKER_00', <Segment(203.04, 205.08)>, ' Have you got your timetable?'),\n",
       " ('SPEAKER_00', <Segment(205.08, 206.6)>, ' Yes, I have.'),\n",
       " ('SPEAKER_00',\n",
       "  <Segment(206.6, 209.32)>,\n",
       "  \" When do we have Dr Kent's lecture?\"),\n",
       " ('SPEAKER_01',\n",
       "  <Segment(209.32, 213.76)>,\n",
       "  ' Monday morning at 9.30 and then at 11.30.'),\n",
       " ('SPEAKER_01', <Segment(213.76, 215.96)>, ' Also, Friday morning at 10.30.'),\n",
       " ('SPEAKER_00', <Segment(215.96, 217.44)>, ' And how long do they last?'),\n",
       " ('SPEAKER_01', <Segment(217.44, 218.88)>, ' An hour.'),\n",
       " ('SPEAKER_01', <Segment(218.88, 220.64)>, ' Which rooms are they in?'),\n",
       " ('SPEAKER_01',\n",
       "  <Segment(220.64, 224.04)>,\n",
       "  ' The Monday morning lectures take place in room 50.'),\n",
       " ('SPEAKER_01',\n",
       "  <Segment(224.08, 226.6)>,\n",
       "  ' The Friday morning one is in room 15.'),\n",
       " ('SPEAKER_00', <Segment(226.6, 234.92)>, ' Number 13.'),\n",
       " ('SPEAKER_00', <Segment(234.92, 239.4)>, ' Listening activity number 13.'),\n",
       " ('SPEAKER_00',\n",
       "  <Segment(239.4, 244.08)>,\n",
       "  ' You will hear some announcements from railway stations and airports.'),\n",
       " ('SPEAKER_00',\n",
       "  <Segment(244.08, 249.84)>,\n",
       "  ' These announcements give information to travelers about trains and planes.'),\n",
       " ('SPEAKER_00',\n",
       "  <Segment(249.84, 255.04)>,\n",
       "  ' For each announcement that you hear, write in the box below the platform number,'),\n",
       " ('SPEAKER_00',\n",
       "  <Segment(255.04, 260.08)>,\n",
       "  ' flight number, time and destination.'),\n",
       " ('SPEAKER_01', <Segment(260.08, 262.12)>, ' One.'),\n",
       " ('SPEAKER_01',\n",
       "  <Segment(262.12, 268.72)>,\n",
       "  ' The train now standing at platform four is the 13.30 to Cambridge.'),\n",
       " ('SPEAKER_00', <Segment(268.72, 270.52)>, ' Two.'),\n",
       " ('SPEAKER_00',\n",
       "  <Segment(270.52, 277.8)>,\n",
       "  ' The express train to Birmingham is now due in on platform two at 14.20.'),\n",
       " ('SPEAKER_01', <Segment(277.8, 279.68)>, ' Three.'),\n",
       " ('SPEAKER_01',\n",
       "  <Segment(279.72, 286.52)>,\n",
       "  ' The next train to arrive at platform three is the 16.40 to Liverpool.'),\n",
       " ('SPEAKER_00', <Segment(286.52, 288.24)>, ' Four.'),\n",
       " ('SPEAKER_00',\n",
       "  <Segment(288.24, 294.16)>,\n",
       "  ' The next train to London will depart from platform one at 7.30.'),\n",
       " ('SPEAKER_01', <Segment(294.16, 296.2)>, ' Five.'),\n",
       " ('SPEAKER_01',\n",
       "  <Segment(296.2, 299.68)>,\n",
       "  ' British Rail apologises for the delay to Leeds.'),\n",
       " ('SPEAKER_01',\n",
       "  <Segment(299.68, 305.04)>,\n",
       "  ' It will now depart at 9.10 from platform five.'),\n",
       " ('SPEAKER_00', <Segment(305.04, 306.84)>, ' Six.'),\n",
       " ('SPEAKER_00',\n",
       "  <Segment(306.84, 313.72)>,\n",
       "  ' The next train to Oxford will depart from platform two at 10.30.'),\n",
       " ('SPEAKER_01', <Segment(313.72, 315.48)>, ' Seven.'),\n",
       " ('SPEAKER_01',\n",
       "  <Segment(315.48, 324.68)>,\n",
       "  ' The train now standing at platform five is the 11.05 to Leeds.'),\n",
       " ('SPEAKER_00', <Segment(324.68, 326.48)>, ' Eight.'),\n",
       " ('SPEAKER_00',\n",
       "  <Segment(326.48, 331.44)>,\n",
       "  ' British Rail apologises for the delay to the Manchester train.'),\n",
       " ('SPEAKER_00',\n",
       "  <Segment(331.44, 337.24)>,\n",
       "  ' It will now depart at 11.30 from platform three.'),\n",
       " ('SPEAKER_01', <Segment(337.24, 338.92)>, ' Nine.'),\n",
       " ('SPEAKER_01',\n",
       "  <Segment(338.92, 347.56)>,\n",
       "  ' British Airways announces the departure of flight BA207 at 8.30 to Paris.'),\n",
       " ('SPEAKER_00', <Segment(347.56, 349.28)>, ' Ten.'),\n",
       " ('SPEAKER_00',\n",
       "  <Segment(349.28, 356.72)>,\n",
       "  ' Olympic Airways flight OA535 for Athens will depart at 12.05.'),\n",
       " ('SPEAKER_01', <Segment(356.72, 358.68)>, ' Eleven.'),\n",
       " ('SPEAKER_01',\n",
       "  <Segment(358.72, 366.36)>,\n",
       "  \" British Airways next flight to Belfast is flight BA965 at 12 o'clock.\"),\n",
       " ('SPEAKER_00', <Segment(366.36, 368.2)>, ' Number 12.'),\n",
       " ('SPEAKER_00',\n",
       "  <Segment(368.2, 377.2)>,\n",
       "  ' SAS flight SK506 to Stockholm will depart at 17.15.'),\n",
       " ('SPEAKER_01', <Segment(377.2, 379.16)>, ' 13.'),\n",
       " ('SPEAKER_01',\n",
       "  <Segment(379.16, 387.08)>,\n",
       "  ' British Airways announces the departure of flight BA205 at 9.30 to Dublin.'),\n",
       " ('SPEAKER_00', <Segment(387.08, 389.08)>, ' 14.'),\n",
       " ('SPEAKER_00',\n",
       "  <Segment(389.08, 397.32)>,\n",
       "  ' British Airways next flight to Paris is flight BA305 at 11.30.'),\n",
       " ('SPEAKER_01', <Segment(397.32, 399.32)>, ' 15.'),\n",
       " ('SPEAKER_01',\n",
       "  <Segment(399.32, 408.24)>,\n",
       "  ' Olympic Airways next flight to Athens is flight OA593 at 14.14.'),\n",
       " ('SPEAKER_00', <Segment(408.24, 410.08)>, ' 16.'),\n",
       " ('SPEAKER_00',\n",
       "  <Segment(410.08, 417.08)>,\n",
       "  ' British Airways flight BA707 for Edinburgh will depart at 15.05.')]"
      ]
     },
     "execution_count": 20,
     "metadata": {},
     "output_type": "execute_result"
    }
   ],
   "execution_count": 20
  },
  {
   "metadata": {
    "ExecuteTime": {
     "end_time": "2025-04-12T11:17:27.545658Z",
     "start_time": "2025-04-12T11:17:27.541436Z"
    }
   },
   "cell_type": "code",
   "source": "",
   "id": "e7bc75cf5fdee400",
   "outputs": [],
   "execution_count": 17
  }
 ],
 "metadata": {
  "kernelspec": {
   "display_name": "Python 3",
   "language": "python",
   "name": "python3"
  },
  "language_info": {
   "codemirror_mode": {
    "name": "ipython",
    "version": 2
   },
   "file_extension": ".py",
   "mimetype": "text/x-python",
   "name": "python",
   "nbconvert_exporter": "python",
   "pygments_lexer": "ipython2",
   "version": "2.7.6"
  }
 },
 "nbformat": 4,
 "nbformat_minor": 5
}
